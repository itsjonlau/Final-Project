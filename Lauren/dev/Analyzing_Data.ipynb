{
 "cells": [
  {
   "cell_type": "code",
   "execution_count": 1,
   "metadata": {},
   "outputs": [],
   "source": [
    "#import dependencies\n",
    "import pandas as pd\n",
    "import matplotlib\n",
    "import matplotlib.pyplot as plt\n",
    "%matplotlib inline"
   ]
  },
  {
   "cell_type": "code",
   "execution_count": 2,
   "metadata": {},
   "outputs": [],
   "source": [
    "#read in data frame from database \n",
    "data_df = pd.read_csv(\"Resources/Clean_Data.csv\")"
   ]
  },
  {
   "cell_type": "code",
   "execution_count": 3,
   "metadata": {},
   "outputs": [
    {
     "data": {
      "text/html": [
       "<div>\n",
       "<style scoped>\n",
       "    .dataframe tbody tr th:only-of-type {\n",
       "        vertical-align: middle;\n",
       "    }\n",
       "\n",
       "    .dataframe tbody tr th {\n",
       "        vertical-align: top;\n",
       "    }\n",
       "\n",
       "    .dataframe thead th {\n",
       "        text-align: right;\n",
       "    }\n",
       "</style>\n",
       "<table border=\"1\" class=\"dataframe\">\n",
       "  <thead>\n",
       "    <tr style=\"text-align: right;\">\n",
       "      <th></th>\n",
       "      <th>Week-Ending Date</th>\n",
       "      <th>HHS Region</th>\n",
       "      <th>Race and Hispanic Origin Group</th>\n",
       "      <th>COVID-19 Deaths</th>\n",
       "    </tr>\n",
       "  </thead>\n",
       "  <tbody>\n",
       "    <tr>\n",
       "      <th>0</th>\n",
       "      <td>2020-01-04</td>\n",
       "      <td>1</td>\n",
       "      <td>Hispanic</td>\n",
       "      <td>9</td>\n",
       "    </tr>\n",
       "    <tr>\n",
       "      <th>1</th>\n",
       "      <td>2020-01-04</td>\n",
       "      <td>1</td>\n",
       "      <td>Non-Hispanic American Indian or Alaska Native</td>\n",
       "      <td>9</td>\n",
       "    </tr>\n",
       "    <tr>\n",
       "      <th>2</th>\n",
       "      <td>2020-01-04</td>\n",
       "      <td>1</td>\n",
       "      <td>Non-Hispanic Asian</td>\n",
       "      <td>9</td>\n",
       "    </tr>\n",
       "    <tr>\n",
       "      <th>3</th>\n",
       "      <td>2020-01-04</td>\n",
       "      <td>1</td>\n",
       "      <td>Non-Hispanic Black</td>\n",
       "      <td>9</td>\n",
       "    </tr>\n",
       "    <tr>\n",
       "      <th>4</th>\n",
       "      <td>2020-01-04</td>\n",
       "      <td>1</td>\n",
       "      <td>Non-Hispanic More than one race</td>\n",
       "      <td>9</td>\n",
       "    </tr>\n",
       "    <tr>\n",
       "      <th>...</th>\n",
       "      <td>...</td>\n",
       "      <td>...</td>\n",
       "      <td>...</td>\n",
       "      <td>...</td>\n",
       "    </tr>\n",
       "    <tr>\n",
       "      <th>4755</th>\n",
       "      <td>2021-04-17</td>\n",
       "      <td>10</td>\n",
       "      <td>Non-Hispanic Asian</td>\n",
       "      <td>7</td>\n",
       "    </tr>\n",
       "    <tr>\n",
       "      <th>4756</th>\n",
       "      <td>2021-04-17</td>\n",
       "      <td>10</td>\n",
       "      <td>Non-Hispanic Black</td>\n",
       "      <td>9</td>\n",
       "    </tr>\n",
       "    <tr>\n",
       "      <th>4757</th>\n",
       "      <td>2021-04-17</td>\n",
       "      <td>10</td>\n",
       "      <td>Non-Hispanic More than one race</td>\n",
       "      <td>9</td>\n",
       "    </tr>\n",
       "    <tr>\n",
       "      <th>4758</th>\n",
       "      <td>2021-04-17</td>\n",
       "      <td>10</td>\n",
       "      <td>Non-Hispanic Native Hawaiian or Other Pacific ...</td>\n",
       "      <td>8</td>\n",
       "    </tr>\n",
       "    <tr>\n",
       "      <th>4759</th>\n",
       "      <td>2021-04-17</td>\n",
       "      <td>10</td>\n",
       "      <td>Non-Hispanic White</td>\n",
       "      <td>5</td>\n",
       "    </tr>\n",
       "  </tbody>\n",
       "</table>\n",
       "<p>4760 rows × 4 columns</p>\n",
       "</div>"
      ],
      "text/plain": [
       "     Week-Ending Date  HHS Region  \\\n",
       "0          2020-01-04           1   \n",
       "1          2020-01-04           1   \n",
       "2          2020-01-04           1   \n",
       "3          2020-01-04           1   \n",
       "4          2020-01-04           1   \n",
       "...               ...         ...   \n",
       "4755       2021-04-17          10   \n",
       "4756       2021-04-17          10   \n",
       "4757       2021-04-17          10   \n",
       "4758       2021-04-17          10   \n",
       "4759       2021-04-17          10   \n",
       "\n",
       "                         Race and Hispanic Origin Group  COVID-19 Deaths  \n",
       "0                                              Hispanic                9  \n",
       "1         Non-Hispanic American Indian or Alaska Native                9  \n",
       "2                                    Non-Hispanic Asian                9  \n",
       "3                                    Non-Hispanic Black                9  \n",
       "4                       Non-Hispanic More than one race                9  \n",
       "...                                                 ...              ...  \n",
       "4755                                 Non-Hispanic Asian                7  \n",
       "4756                                 Non-Hispanic Black                9  \n",
       "4757                    Non-Hispanic More than one race                9  \n",
       "4758  Non-Hispanic Native Hawaiian or Other Pacific ...                8  \n",
       "4759                                 Non-Hispanic White                5  \n",
       "\n",
       "[4760 rows x 4 columns]"
      ]
     },
     "execution_count": 3,
     "metadata": {},
     "output_type": "execute_result"
    }
   ],
   "source": [
    "data_df"
   ]
  },
  {
   "cell_type": "code",
   "execution_count": 4,
   "metadata": {},
   "outputs": [
    {
     "data": {
      "text/plain": [
       "Week-Ending Date\n",
       "2020-01-04    630\n",
       "2020-01-11    630\n",
       "2020-01-18    627\n",
       "2020-01-25    629\n",
       "2020-02-01    630\n",
       "             ... \n",
       "2021-03-20    480\n",
       "2021-03-27    495\n",
       "2021-04-03    495\n",
       "2021-04-10    476\n",
       "2021-04-17    508\n",
       "Name: COVID-19 Deaths, Length: 68, dtype: int64"
      ]
     },
     "execution_count": 4,
     "metadata": {},
     "output_type": "execute_result"
    }
   ],
   "source": [
    "#get the total deaths in week\n",
    "weekly_deaths = data_df.groupby([\"Week-Ending Date\"]).sum()[\"COVID-19 Deaths\"]\n",
    "weekly_deaths"
   ]
  },
  {
   "cell_type": "code",
   "execution_count": 5,
   "metadata": {},
   "outputs": [
    {
     "data": {
      "image/png": "[encoded data removed]",
      "text/plain": [
       "<Figure size 432x288 with 1 Axes>"
      ]
     },
     "metadata": {
      "needs_background": "light"
     },
     "output_type": "display_data"
    }
   ],
   "source": [
    "data_df.plot.bar(x=\"Week-Ending Date\", y=\"COVID-19 Deaths\")\n",
    "\n",
    "plt.show()"
   ]
  },
  {
   "cell_type": "code",
   "execution_count": 6,
   "metadata": {},
   "outputs": [
    {
     "data": {
      "image/png": "[encoded data removed]",
      "text/plain": [
       "<Figure size 432x288 with 1 Axes>"
      ]
     },
     "metadata": {
      "needs_background": "light"
     },
     "output_type": "display_data"
    }
   ],
   "source": [
    "data_df.plot.scatter(x=\"Week-Ending Date\", y=\"COVID-19 Deaths\")\n",
    "plt.show()"
   ]
  },
  {
   "cell_type": "code",
   "execution_count": null,
   "metadata": {},
   "outputs": [],
   "source": []
  }
 ],
 "metadata": {
  "kernelspec": {
   "display_name": "PythonData",
   "language": "python",
   "name": "pythondata"
  },
  "language_info": {
   "codemirror_mode": {
    "name": "ipython",
    "version": 3
   },
   "file_extension": ".py",
   "mimetype": "text/x-python",
   "name": "python",
   "nbconvert_exporter": "python",
   "pygments_lexer": "ipython3",
   "version": "3.7.9"
  }
 },
 "nbformat": 4,
 "nbformat_minor": 4
}
