{
 "cells": [
  {
   "cell_type": "code",
   "execution_count": 1,
   "metadata": {},
   "outputs": [],
   "source": [
    "import pandas as pd\n",
    "import matplotlib\n",
    "import numpy as np\n",
    "import matplotlib.pyplot as plt\n",
    "\n",
    "\n",
    "# Display all the columns of the dataframe\n",
    "pd.pandas.set_option('display.max_columns',None)"
   ]
  },
  {
   "cell_type": "code",
   "execution_count": 3,
   "metadata": {},
   "outputs": [],
   "source": [
    "#load Updated data\n",
    "Updated_Data = pd.read_csv(\"Resources/Updated_Data.csv\")\n",
    "Updated_Data_Week = pd.read_csv(\"Resources/Updated_Data_Week.csv\")\n",
    "#Setting Visulization Parameters\n",
    "#pd.pandas.options.display.max_columns = None\n"
   ]
  },
  {
   "cell_type": "code",
   "execution_count": 5,
   "metadata": {},
   "outputs": [
    {
     "data": {
      "text/html": [
       "<div>\n",
       "<style scoped>\n",
       "    .dataframe tbody tr th:only-of-type {\n",
       "        vertical-align: middle;\n",
       "    }\n",
       "\n",
       "    .dataframe tbody tr th {\n",
       "        vertical-align: top;\n",
       "    }\n",
       "\n",
       "    .dataframe thead th {\n",
       "        text-align: right;\n",
       "    }\n",
       "</style>\n",
       "<table border=\"1\" class=\"dataframe\">\n",
       "  <thead>\n",
       "    <tr style=\"text-align: right;\">\n",
       "      <th></th>\n",
       "      <th>Week Ending</th>\n",
       "      <th>Age Group</th>\n",
       "      <th>COVID-19 Deaths</th>\n",
       "    </tr>\n",
       "  </thead>\n",
       "  <tbody>\n",
       "    <tr>\n",
       "      <th>0</th>\n",
       "      <td>20/01/04</td>\n",
       "      <td>All Ages</td>\n",
       "      <td>0</td>\n",
       "    </tr>\n",
       "    <tr>\n",
       "      <th>1</th>\n",
       "      <td>20/01/04</td>\n",
       "      <td>Under 1 year</td>\n",
       "      <td>0</td>\n",
       "    </tr>\n",
       "    <tr>\n",
       "      <th>2</th>\n",
       "      <td>20/01/04</td>\n",
       "      <td>1-4 Years</td>\n",
       "      <td>0</td>\n",
       "    </tr>\n",
       "    <tr>\n",
       "      <th>3</th>\n",
       "      <td>20/01/04</td>\n",
       "      <td>5-14 Years</td>\n",
       "      <td>0</td>\n",
       "    </tr>\n",
       "    <tr>\n",
       "      <th>4</th>\n",
       "      <td>20/01/04</td>\n",
       "      <td>15-24 Years</td>\n",
       "      <td>0</td>\n",
       "    </tr>\n",
       "    <tr>\n",
       "      <th>...</th>\n",
       "      <td>...</td>\n",
       "      <td>...</td>\n",
       "      <td>...</td>\n",
       "    </tr>\n",
       "    <tr>\n",
       "      <th>2443</th>\n",
       "      <td>21/04/17</td>\n",
       "      <td>45-54 Years</td>\n",
       "      <td>27</td>\n",
       "    </tr>\n",
       "    <tr>\n",
       "      <th>2444</th>\n",
       "      <td>21/04/17</td>\n",
       "      <td>55-64 Years</td>\n",
       "      <td>65</td>\n",
       "    </tr>\n",
       "    <tr>\n",
       "      <th>2445</th>\n",
       "      <td>21/04/17</td>\n",
       "      <td>65-74 Years</td>\n",
       "      <td>112</td>\n",
       "    </tr>\n",
       "    <tr>\n",
       "      <th>2446</th>\n",
       "      <td>21/04/17</td>\n",
       "      <td>75-84 Years</td>\n",
       "      <td>135</td>\n",
       "    </tr>\n",
       "    <tr>\n",
       "      <th>2447</th>\n",
       "      <td>21/04/17</td>\n",
       "      <td>85 Years and Over</td>\n",
       "      <td>122</td>\n",
       "    </tr>\n",
       "  </tbody>\n",
       "</table>\n",
       "<p>2448 rows × 3 columns</p>\n",
       "</div>"
      ],
      "text/plain": [
       "     Week Ending          Age Group COVID-19 Deaths\n",
       "0       20/01/04           All Ages               0\n",
       "1       20/01/04       Under 1 year               0\n",
       "2       20/01/04          1-4 Years               0\n",
       "3       20/01/04         5-14 Years               0\n",
       "4       20/01/04        15-24 Years               0\n",
       "...          ...                ...             ...\n",
       "2443    21/04/17        45-54 Years              27\n",
       "2444    21/04/17        55-64 Years              65\n",
       "2445    21/04/17        65-74 Years             112\n",
       "2446    21/04/17        75-84 Years             135\n",
       "2447    21/04/17  85 Years and Over             122\n",
       "\n",
       "[2448 rows x 3 columns]"
      ]
     },
     "execution_count": 5,
     "metadata": {},
     "output_type": "execute_result"
    }
   ],
   "source": [
    "Updated_Data\n",
    "Updated_Data_Week"
   ]
  },
  {
   "cell_type": "code",
   "execution_count": 6,
   "metadata": {},
   "outputs": [
    {
     "name": "stdout",
     "output_type": "stream",
     "text": [
      "0            0\n",
      "50           0\n",
      "100         65\n",
      "150      1,708\n",
      "200      1,536\n",
      "         ...  \n",
      "21100        0\n",
      "21150        0\n",
      "21200       39\n",
      "21250       28\n",
      "21300       32\n",
      "Name: COVID-19 Deaths, Length: 427, dtype: object\n"
     ]
    }
   ],
   "source": [
    "print(Updated_Data[\"COVID-19 Deaths\"][::50])"
   ]
  },
  {
   "cell_type": "code",
   "execution_count": null,
   "metadata": {},
   "outputs": [],
   "source": [
    "plt.barh(Updated_Data['Age Group'] ,Updated_Data['COVID-19 Deaths'])\n",
    " "
   ]
  },
  {
   "cell_type": "code",
   "execution_count": 8,
   "metadata": {},
   "outputs": [
    {
     "data": {
      "text/plain": [
       "<BarContainer object of 2448 artists>"
      ]
     },
     "execution_count": 8,
     "metadata": {},
     "output_type": "execute_result"
    },
    {
     "data": {
      "image/png": "[encoded data removed]",
      "text/plain": [
       "<Figure size 432x288 with 1 Axes>"
      ]
     },
     "metadata": {
      "needs_background": "light"
     },
     "output_type": "display_data"
    }
   ],
   "source": [
    "plt.barh(Updated_Data_Week['Age Group'] ,Updated_Data_Week['COVID-19 Deaths'])"
   ]
  },
  {
   "cell_type": "code",
   "execution_count": 10,
   "metadata": {},
   "outputs": [
    {
     "data": {
      "text/plain": [
       "<BarContainer object of 21346 artists>"
      ]
     },
     "execution_count": 10,
     "metadata": {},
     "output_type": "execute_result"
    },
    {
     "data": {
      "image/png": "[encoded data removed]",
      "text/plain": [
       "<Figure size 432x288 with 1 Axes>"
      ]
     },
     "metadata": {
      "needs_background": "light"
     },
     "output_type": "display_data"
    }
   ],
   "source": [
    "plt.barh(Updated_Data['Age Group'] ,Updated_Data['COVID-19 Deaths'])\n"
   ]
  },
  {
   "cell_type": "code",
   "execution_count": null,
   "metadata": {},
   "outputs": [],
   "source": [
    "# Set title and labels for axes\n",
    "plt.xlabel=(\"Date\")\n",
    "plt.ylabel=(\"COVID-19 Deaths\")\n",
    "plt.title=(\"Relationship of Age to Covid-19 Deaths\")\n",
    "\n",
    "# Rotate tick marks on x-axis\n",
    "\n",
    "plt.scatter(Updated_Data['Date'], Updated_Data['Age Group'])\n",
    "plt.xticks(rotation=90) \n",
    "\n",
    "\n"
   ]
  },
  {
   "cell_type": "code",
   "execution_count": null,
   "metadata": {},
   "outputs": [],
   "source": [
    "plt.title(\"Relationship of Age to Covid-19 Deaths\")\n",
    "plt.xlabel(\"Week Ending\")\n",
    "plt.ylabel(\"Number of Covid-19 Deaths\")\n",
    "formatter = Updated_data.DateFormatter(\"%m-%y\")\n",
    "plt.plot(Updated_Data['Age Group'], Updated_Data['COVID-19 Deaths'])\n",
    "\n",
    "\n",
    "plt.figure(figsize=(20,10))\n",
    "\n",
    "#plt.plot(Updated_Data['Week Ending'], Updated_Data['COVID-19 Deaths'])\n",
    "\n",
    "#plt.yticks(Updated_Data[\"COVID-19 Deaths\"][::100])\n",
    "#plt.xticks(Updated_Data['Week Ending'])\n",
    "#plt.legend()\n",
    "\n",
    "\n",
    "#plt.plot(x, y)"
   ]
  },
  {
   "cell_type": "code",
   "execution_count": null,
   "metadata": {},
   "outputs": [],
   "source": [
    "fig1 = plt.scatter(Updated_Data['Data' ,'COVID-19 Deaths'])"
   ]
  },
  {
   "cell_type": "code",
   "execution_count": null,
   "metadata": {},
   "outputs": [],
   "source": []
  }
 ],
 "metadata": {
  "kernelspec": {
   "display_name": "Python 3",
   "language": "python",
   "name": "python3"
  },
  "language_info": {
   "codemirror_mode": {
    "name": "ipython",
    "version": 3
   },
   "file_extension": ".py",
   "mimetype": "text/x-python",
   "name": "python",
   "nbconvert_exporter": "python",
   "pygments_lexer": "ipython3",
   "version": "3.7.9"
  }
 },
 "nbformat": 4,
 "nbformat_minor": 4
}
